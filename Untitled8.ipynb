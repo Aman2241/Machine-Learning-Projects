{
 "cells": [
  {
   "cell_type": "code",
   "execution_count": 12,
   "metadata": {},
   "outputs": [
    {
     "ename": "SyntaxError",
     "evalue": "invalid syntax (<ipython-input-12-f353518aae50>, line 74)",
     "output_type": "error",
     "traceback": [
      "\u001b[0;36m  File \u001b[0;32m\"<ipython-input-12-f353518aae50>\"\u001b[0;36m, line \u001b[0;32m74\u001b[0m\n\u001b[0;31m    print('something'+%confusion_matrix(predicted, testing_labels))\u001b[0m\n\u001b[0m        ^\u001b[0m\n\u001b[0;31mSyntaxError\u001b[0m\u001b[0;31m:\u001b[0m invalid syntax\n"
     ]
    }
   ],
   "source": [
    "import pickle\n",
    "import sklearn\n",
    "from sklearn import svm # this is an example of using SVM\n",
    "from sklearn.metrics import confusion_matrix\n",
    "import matplotlib.pyplot as plt\n",
    "import numpy as np\n",
    "from mnist import load_mnist\n",
    "\n",
    "def preprocess(images):\n",
    "    for image in images:\n",
    "        for i in range(0,28):\n",
    "            for j in range(0, 28):\n",
    "                if(image[i][j] > 0.1):\n",
    "                    image[i][j] = 1.0;\n",
    "                else:\n",
    "                    image[i][j] = -1.0;\n",
    "    return [i.flatten() for i in images]\n",
    "\n",
    "def build_classifier(images, labels):\n",
    "    classifier = svm.SVC(kernel='poly')\n",
    "    classifier.fit(images, labels)\n",
    "    return classifier\n",
    "\n",
    "##the functions below are required\n",
    "def save_classifier(classifier, training_set, training_labels):\n",
    "    #this saves the classifier to a file \"classifier\" that we will\n",
    "    #load from. It also saves the data that the classifier was trained on.\n",
    "    import pickle\n",
    "    pickle.dump(classifier, open('classifier_1.p', 'w'))\n",
    "    pickle.dump(training_set, open('training_set_1.p', 'w'))\n",
    "    pickle.dump(training_labels, open('training_labels_1.p', 'w'))\n",
    "\n",
    "\n",
    "def classify(images, classifier):\n",
    "    #runs the classifier on a set of images. \n",
    "    return classifier.predict(images)\n",
    "\n",
    "def error_measure(predicted, actual):\n",
    "    return np.count_nonzero(abs(predicted - actual))/float(len(predicted))\n",
    "\n",
    "if __name__ == \"__main__\":\n",
    "\n",
    "    # Code for loading data\n",
    "    imagesData, labelsData = load_mnist(digits=range(0, 10), path='.')\n",
    "    print (\"1 Finish loading data\")\n",
    "    # preprocessing\n",
    "    images = preprocess(imagesData)\n",
    "    labels = labelsData\n",
    "    \n",
    "    print (\"2 Finish preprocessing\")\n",
    "    # pick training and testing set\n",
    "    # YOU HAVE TO CHANGE THIS TO PICK DIFFERENT SET OF DATA\n",
    "    training_set = images[0:54000]\n",
    "    training_labels = labels[0:54000]\n",
    "    testing_set = images[-6000:]\n",
    "    testing_labels = labels[-6000:]\n",
    "    print (\"3 Finish training testing split\")\n",
    "    #build_classifier is a function that takes in training data and outputs an sklearn classifier.\n",
    "    classifier = build_classifier(training_set, training_labels)\n",
    "    print (classifier)\n",
    "    print (\"4 Finish build_classifier\")\n",
    "    save_classifier(classifier, training_set, training_labels)\n",
    "    print (\"finish save_classifier\")\n",
    "    classifier = pickle.load(open('classifier_1.p'))\n",
    "    print (\"6 Finish loading classifier\")\n",
    "    predicted = classify(testing_set, classifier)\n",
    "    print (\"7 Finish classify\")\n",
    "    print (error_measure(predicted, testing_labels)\n",
    "    # plt.imshow(imagesData[54000+5719], cmap = 'gray')\n",
    "    # print predicted[5719]\n",
    "    # print testing_labels[5719]\n",
    "    # plt.show()\n",
    "    #print (\"8 confusion_matrix\")\n",
    "    print('something'+%confusion_matrix(predicted, testing_labels))"
   ]
  },
  {
   "cell_type": "code",
   "execution_count": null,
   "metadata": {},
   "outputs": [],
   "source": []
  },
  {
   "cell_type": "code",
   "execution_count": null,
   "metadata": {},
   "outputs": [],
   "source": []
  }
 ],
 "metadata": {
  "kernelspec": {
   "display_name": "Python 3",
   "language": "python",
   "name": "python3"
  },
  "language_info": {
   "codemirror_mode": {
    "name": "ipython",
    "version": 3
   },
   "file_extension": ".py",
   "mimetype": "text/x-python",
   "name": "python",
   "nbconvert_exporter": "python",
   "pygments_lexer": "ipython3",
   "version": "3.6.5"
  }
 },
 "nbformat": 4,
 "nbformat_minor": 2
}
