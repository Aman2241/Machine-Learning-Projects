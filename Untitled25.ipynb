{
 "cells": [
  {
   "cell_type": "code",
   "execution_count": 4,
   "metadata": {},
   "outputs": [
    {
     "name": "stderr",
     "output_type": "stream",
     "text": [
      "usage: ipykernel_launcher.py [-h] [-v] [-g]\n",
      "ipykernel_launcher.py: error: unrecognized arguments: -f /run/user/1000/jupyter/kernel-94f8e1b8-d149-4aa1-aca0-2641add784d7.json\n"
     ]
    },
    {
     "ename": "SystemExit",
     "evalue": "2",
     "output_type": "error",
     "traceback": [
      "An exception has occurred, use %tb to see the full traceback.\n",
      "\u001b[0;31mSystemExit\u001b[0m\u001b[0;31m:\u001b[0m 2\n"
     ]
    },
    {
     "name": "stderr",
     "output_type": "stream",
     "text": [
      "/home/aman/anaconda3/lib/python3.6/site-packages/IPython/core/interactiveshell.py:2969: UserWarning: To exit: use 'exit', 'quit', or Ctrl-D.\n",
      "  warn(\"To exit: use 'exit', 'quit', or Ctrl-D.\", stacklevel=1)\n"
     ]
    }
   ],
   "source": [
    "import aiml\n",
    "import os\n",
    "import time\n",
    "import argparse\n",
    "\n",
    "\n",
    "mode = \"text\"\n",
    "voice = \"pyttsx\"\n",
    "terminate = ['bye', 'buy', 'shutdown', 'exit', 'quit', 'gotosleep', 'goodbye']\n",
    "\n",
    "\n",
    "def get_arguments():\n",
    "    parser = argparse.ArgumentParser()\n",
    "    optional = parser.add_argument_group('params')\n",
    "    optional.add_argument('-v', '--voice', action='store_true', required=False,\n",
    "                          help='Enable voice mode')\n",
    "    optional.add_argument('-g', '--gtts', action='store_true', required=False,\n",
    "                          help='Enable Google Text To Speech engine')\n",
    "    arguments = parser.parse_args()\n",
    "    return arguments\n",
    "\n",
    "\n",
    "def gtts_speak(jarvis_speech):\n",
    "    tts = gTTS(text=jarvis_speech, lang='en')\n",
    "    tts.save('jarvis_speech.mp3')\n",
    "    mixer.init()\n",
    "    mixer.music.load('jarvis_speech.mp3')\n",
    "    mixer.music.play()\n",
    "    while mixer.music.get_busy():\n",
    "        time.sleep(1)\n",
    "\n",
    "\n",
    "def offline_speak(jarvis_speech):\n",
    "    engine = pyttsx.init()\n",
    "    engine.say(jarvis_speech)\n",
    "    engine.runAndWait()\n",
    "\n",
    "\n",
    "def speak(jarvis_speech):\n",
    "    if voice == \"gTTS\":\n",
    "        gtts_speak(jarvis_speech)\n",
    "    else:\n",
    "        offline_speak(jarvis_speech)\n",
    "\n",
    "\n",
    "def listen():\n",
    "    r = sr.Recognizer()\n",
    "    with sr.Microphone() as source:\n",
    "        print(\"Talk to J.A.R.V.I.S: \")\n",
    "        audio = r.listen(source)\n",
    "    try:\n",
    "        print (r.recognize_google(audio))\n",
    "        return r.recognize_google(audio)\n",
    "    except sr.UnknownValueError:\n",
    "        speak(\n",
    "            \"I couldn't understand what you said! Would you like to repeat?\")\n",
    "        return(listen())\n",
    "    except sr.RequestError as e:\n",
    "        print(\"Could not request results from \" +\n",
    "              \"Google Speech Recognition service; {0}\".format(e))\n",
    "\n",
    "\n",
    "if __name__ == '__main__':\n",
    "    args = get_arguments()\n",
    "\n",
    "    if (args.voice):\n",
    "        try:\n",
    "            import speech_recognition as sr\n",
    "            mode = \"voice\"\n",
    "        except ImportError:\n",
    "            print(\"\\nInstall SpeechRecognition to use this feature.\" +\n",
    "                  \"\\nStarting text mode\\n\")\n",
    "    if (args.gtts):\n",
    "        try:\n",
    "            from gtts import gTTS\n",
    "            from pygame import mixer\n",
    "            voice = \"gTTS\"\n",
    "        except ImportError:\n",
    "            import pyttsx\n",
    "            print(\"\\nInstall gTTS and pygame to use this feature.\" +\n",
    "                  \"\\nUsing pyttsx\\n\")\n",
    "    else:\n",
    "        import pyttsx\n",
    "\n",
    "    kernel = aiml.Kernel()\n",
    "\n",
    "    if os.path.isfile(\"bot_brain.brn\"):\n",
    "        kernel.bootstrap(brainFile=\"bot_brain.brn\")\n",
    "    else:\n",
    "        kernel.bootstrap(learnFiles=\"std-startup.xml\", commands=\"load aiml b\")\n",
    "        # kernel.saveBrain(\"bot_brain.brn\")\n",
    "\n",
    "    # kernel now ready for use\n",
    "    while True:\n",
    "        if mode == \"voice\":\n",
    "            response = listen()\n",
    "        else:\n",
    "            response = raw_input(\"Talk to J.A.R.V.I.S : \")\n",
    "        if response.lower().replace(\" \", \"\") in terminate:\n",
    "            break\n",
    "        jarvis_speech = kernel.respond(response)\n",
    "        print (\"J.A.R.V.I.S: \" + jarvis_speech)\n",
    "        speak(jarvis_speech)"
   ]
  },
  {
   "cell_type": "code",
   "execution_count": null,
   "metadata": {},
   "outputs": [],
   "source": []
  },
  {
   "cell_type": "code",
   "execution_count": null,
   "metadata": {},
   "outputs": [],
   "source": []
  },
  {
   "cell_type": "code",
   "execution_count": null,
   "metadata": {},
   "outputs": [],
   "source": []
  },
  {
   "cell_type": "code",
   "execution_count": null,
   "metadata": {},
   "outputs": [],
   "source": []
  }
 ],
 "metadata": {
  "kernelspec": {
   "display_name": "Python 3",
   "language": "python",
   "name": "python3"
  },
  "language_info": {
   "codemirror_mode": {
    "name": "ipython",
    "version": 3
   },
   "file_extension": ".py",
   "mimetype": "text/x-python",
   "name": "python",
   "nbconvert_exporter": "python",
   "pygments_lexer": "ipython3",
   "version": "3.6.8"
  }
 },
 "nbformat": 4,
 "nbformat_minor": 2
}
