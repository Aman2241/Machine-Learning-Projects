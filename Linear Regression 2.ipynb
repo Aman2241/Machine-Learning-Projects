{
 "cells": [
  {
   "cell_type": "code",
   "execution_count": 1,
   "metadata": {},
   "outputs": [],
   "source": [
    "%matplotlib inline\n",
    "import numpy as np\n",
    "import pandas as pd\n",
    "import matplotlib.pyplot as plt\n",
    "from sklearn.linear_model import LinearRegression\n",
    "from sklearn.metrics import mean_squared_error,r2_score\n",
    "plt.rcParams['figure.figsize']=(20.0,10.0)\n"
   ]
  },
  {
   "cell_type": "code",
   "execution_count": 2,
   "metadata": {},
   "outputs": [
    {
     "name": "stdout",
     "output_type": "stream",
     "text": [
      "(150, 5)\n"
     ]
    },
    {
     "data": {
      "text/html": [
       "<div>\n",
       "<style scoped>\n",
       "    .dataframe tbody tr th:only-of-type {\n",
       "        vertical-align: middle;\n",
       "    }\n",
       "\n",
       "    .dataframe tbody tr th {\n",
       "        vertical-align: top;\n",
       "    }\n",
       "\n",
       "    .dataframe thead th {\n",
       "        text-align: right;\n",
       "    }\n",
       "</style>\n",
       "<table border=\"1\" class=\"dataframe\">\n",
       "  <thead>\n",
       "    <tr style=\"text-align: right;\">\n",
       "      <th></th>\n",
       "      <th>sepal_length</th>\n",
       "      <th>sepal_width</th>\n",
       "      <th>petal_length</th>\n",
       "      <th>petal_width</th>\n",
       "      <th>species</th>\n",
       "    </tr>\n",
       "  </thead>\n",
       "  <tbody>\n",
       "    <tr>\n",
       "      <th>0</th>\n",
       "      <td>5.1</td>\n",
       "      <td>3.5</td>\n",
       "      <td>1.4</td>\n",
       "      <td>0.2</td>\n",
       "      <td>0</td>\n",
       "    </tr>\n",
       "    <tr>\n",
       "      <th>1</th>\n",
       "      <td>4.9</td>\n",
       "      <td>3.0</td>\n",
       "      <td>1.4</td>\n",
       "      <td>0.2</td>\n",
       "      <td>0</td>\n",
       "    </tr>\n",
       "    <tr>\n",
       "      <th>2</th>\n",
       "      <td>4.7</td>\n",
       "      <td>3.2</td>\n",
       "      <td>1.3</td>\n",
       "      <td>0.2</td>\n",
       "      <td>0</td>\n",
       "    </tr>\n",
       "    <tr>\n",
       "      <th>3</th>\n",
       "      <td>4.6</td>\n",
       "      <td>3.1</td>\n",
       "      <td>1.5</td>\n",
       "      <td>0.2</td>\n",
       "      <td>0</td>\n",
       "    </tr>\n",
       "    <tr>\n",
       "      <th>4</th>\n",
       "      <td>5.0</td>\n",
       "      <td>3.6</td>\n",
       "      <td>1.4</td>\n",
       "      <td>0.2</td>\n",
       "      <td>0</td>\n",
       "    </tr>\n",
       "  </tbody>\n",
       "</table>\n",
       "</div>"
      ],
      "text/plain": [
       "   sepal_length  sepal_width  petal_length  petal_width  species\n",
       "0           5.1          3.5           1.4          0.2        0\n",
       "1           4.9          3.0           1.4          0.2        0\n",
       "2           4.7          3.2           1.3          0.2        0\n",
       "3           4.6          3.1           1.5          0.2        0\n",
       "4           5.0          3.6           1.4          0.2        0"
      ]
     },
     "execution_count": 2,
     "metadata": {},
     "output_type": "execute_result"
    }
   ],
   "source": [
    "#Reading Data\n",
    "data=pd.read_csv('/home/aman/Downloads/iris.csv')\n",
    "print(data.shape)\n",
    "data.head()"
   ]
  },
  {
   "cell_type": "code",
   "execution_count": 16,
   "metadata": {},
   "outputs": [
    {
     "data": {
      "text/plain": [
       "array([3.5, 3. , 3.2, 3.1, 3.6, 3.9, 3.4, 3.4, 2.9, 3.1, 3.7, 3.4, 3. ,\n",
       "       3. , 4. , 4.4, 3.9, 3.5, 3.8, 3.8, 3.4, 3.7, 3.6, 3.3, 3.4, 3. ,\n",
       "       3.4, 3.5, 3.4, 3.2, 3.1, 3.4, 4.1, 4.2, 3.1, 3.2, 3.5, 3.1, 3. ,\n",
       "       3.4, 3.5, 2.3, 3.2, 3.5, 3.8, 3. , 3.8, 3.2, 3.7, 3.3, 3.2, 3.2,\n",
       "       3.1, 2.3, 2.8, 2.8, 3.3, 2.4, 2.9, 2.7, 2. , 3. , 2.2, 2.9, 2.9,\n",
       "       3.1, 3. , 2.7, 2.2, 2.5, 3.2, 2.8, 2.5, 2.8, 2.9, 3. , 2.8, 3. ,\n",
       "       2.9, 2.6, 2.4, 2.4, 2.7, 2.7, 3. , 3.4, 3.1, 2.3, 3. , 2.5, 2.6,\n",
       "       3. , 2.6, 2.3, 2.7, 3. , 2.9, 2.9, 2.5, 2.8, 3.3, 2.7, 3. , 2.9,\n",
       "       3. , 3. , 2.5, 2.9, 2.5, 3.6, 3.2, 2.7, 3. , 2.5, 2.8, 3.2, 3. ,\n",
       "       3.8, 2.6, 2.2, 3.2, 2.8, 2.8, 2.7, 3.3, 3.2, 2.8, 3. , 2.8, 3. ,\n",
       "       2.8, 3.8, 2.8, 2.8, 2.6, 3. , 3.4, 3.1, 3. , 3.1, 3.1, 3.1, 2.7,\n",
       "       3.2, 3.3, 3. , 2.5, 3. , 3.4, 3. ])"
      ]
     },
     "execution_count": 16,
     "metadata": {},
     "output_type": "execute_result"
    }
   ],
   "source": [
    "#Collecting X and Y\n",
    "X=data['sepal_length'].values\n",
    "Y=data['sepal_width'].values\n",
    "X\n",
    "Y"
   ]
  },
  {
   "cell_type": "code",
   "execution_count": 17,
   "metadata": {},
   "outputs": [],
   "source": [
    "#Total no of values\n",
    "m=len(X)\n",
    "n=len(Y)"
   ]
  },
  {
   "cell_type": "code",
   "execution_count": 18,
   "metadata": {},
   "outputs": [
    {
     "data": {
      "text/plain": [
       "array([[3.5],\n",
       "       [3. ],\n",
       "       [3.2],\n",
       "       [3.1],\n",
       "       [3.6],\n",
       "       [3.9],\n",
       "       [3.4],\n",
       "       [3.4],\n",
       "       [2.9],\n",
       "       [3.1],\n",
       "       [3.7],\n",
       "       [3.4],\n",
       "       [3. ],\n",
       "       [3. ],\n",
       "       [4. ],\n",
       "       [4.4],\n",
       "       [3.9],\n",
       "       [3.5],\n",
       "       [3.8],\n",
       "       [3.8],\n",
       "       [3.4],\n",
       "       [3.7],\n",
       "       [3.6],\n",
       "       [3.3],\n",
       "       [3.4],\n",
       "       [3. ],\n",
       "       [3.4],\n",
       "       [3.5],\n",
       "       [3.4],\n",
       "       [3.2],\n",
       "       [3.1],\n",
       "       [3.4],\n",
       "       [4.1],\n",
       "       [4.2],\n",
       "       [3.1],\n",
       "       [3.2],\n",
       "       [3.5],\n",
       "       [3.1],\n",
       "       [3. ],\n",
       "       [3.4],\n",
       "       [3.5],\n",
       "       [2.3],\n",
       "       [3.2],\n",
       "       [3.5],\n",
       "       [3.8],\n",
       "       [3. ],\n",
       "       [3.8],\n",
       "       [3.2],\n",
       "       [3.7],\n",
       "       [3.3],\n",
       "       [3.2],\n",
       "       [3.2],\n",
       "       [3.1],\n",
       "       [2.3],\n",
       "       [2.8],\n",
       "       [2.8],\n",
       "       [3.3],\n",
       "       [2.4],\n",
       "       [2.9],\n",
       "       [2.7],\n",
       "       [2. ],\n",
       "       [3. ],\n",
       "       [2.2],\n",
       "       [2.9],\n",
       "       [2.9],\n",
       "       [3.1],\n",
       "       [3. ],\n",
       "       [2.7],\n",
       "       [2.2],\n",
       "       [2.5],\n",
       "       [3.2],\n",
       "       [2.8],\n",
       "       [2.5],\n",
       "       [2.8],\n",
       "       [2.9],\n",
       "       [3. ],\n",
       "       [2.8],\n",
       "       [3. ],\n",
       "       [2.9],\n",
       "       [2.6],\n",
       "       [2.4],\n",
       "       [2.4],\n",
       "       [2.7],\n",
       "       [2.7],\n",
       "       [3. ],\n",
       "       [3.4],\n",
       "       [3.1],\n",
       "       [2.3],\n",
       "       [3. ],\n",
       "       [2.5],\n",
       "       [2.6],\n",
       "       [3. ],\n",
       "       [2.6],\n",
       "       [2.3],\n",
       "       [2.7],\n",
       "       [3. ],\n",
       "       [2.9],\n",
       "       [2.9],\n",
       "       [2.5],\n",
       "       [2.8],\n",
       "       [3.3],\n",
       "       [2.7],\n",
       "       [3. ],\n",
       "       [2.9],\n",
       "       [3. ],\n",
       "       [3. ],\n",
       "       [2.5],\n",
       "       [2.9],\n",
       "       [2.5],\n",
       "       [3.6],\n",
       "       [3.2],\n",
       "       [2.7],\n",
       "       [3. ],\n",
       "       [2.5],\n",
       "       [2.8],\n",
       "       [3.2],\n",
       "       [3. ],\n",
       "       [3.8],\n",
       "       [2.6],\n",
       "       [2.2],\n",
       "       [3.2],\n",
       "       [2.8],\n",
       "       [2.8],\n",
       "       [2.7],\n",
       "       [3.3],\n",
       "       [3.2],\n",
       "       [2.8],\n",
       "       [3. ],\n",
       "       [2.8],\n",
       "       [3. ],\n",
       "       [2.8],\n",
       "       [3.8],\n",
       "       [2.8],\n",
       "       [2.8],\n",
       "       [2.6],\n",
       "       [3. ],\n",
       "       [3.4],\n",
       "       [3.1],\n",
       "       [3. ],\n",
       "       [3.1],\n",
       "       [3.1],\n",
       "       [3.1],\n",
       "       [2.7],\n",
       "       [3.2],\n",
       "       [3.3],\n",
       "       [3. ],\n",
       "       [2.5],\n",
       "       [3. ],\n",
       "       [3.4],\n",
       "       [3. ]])"
      ]
     },
     "execution_count": 18,
     "metadata": {},
     "output_type": "execute_result"
    }
   ],
   "source": [
    "X=X.reshape((m, 1))\n",
    "Y=Y.reshape((n, 1))\n",
    "X\n",
    "Y"
   ]
  },
  {
   "cell_type": "code",
   "execution_count": 32,
   "metadata": {},
   "outputs": [
    {
     "data": {
      "text/plain": [
       "array([[6.6],\n",
       "       [6.8],\n",
       "       [6.7],\n",
       "       [6. ],\n",
       "       [5.7],\n",
       "       [5.5],\n",
       "       [5.5],\n",
       "       [5.8],\n",
       "       [6. ],\n",
       "       [5.4],\n",
       "       [6. ],\n",
       "       [6.7],\n",
       "       [6.3],\n",
       "       [5.6],\n",
       "       [5.5],\n",
       "       [5.5],\n",
       "       [6.1],\n",
       "       [5.8],\n",
       "       [5. ],\n",
       "       [5.6],\n",
       "       [5.7],\n",
       "       [5.7],\n",
       "       [6.2],\n",
       "       [5.1],\n",
       "       [5.7],\n",
       "       [6.3],\n",
       "       [5.8],\n",
       "       [7.1],\n",
       "       [6.3],\n",
       "       [6.5],\n",
       "       [7.6],\n",
       "       [4.9],\n",
       "       [7.3],\n",
       "       [6.7],\n",
       "       [7.2],\n",
       "       [6.5],\n",
       "       [6.4],\n",
       "       [6.8],\n",
       "       [5.7],\n",
       "       [5.8],\n",
       "       [6.4],\n",
       "       [6.5],\n",
       "       [7.7],\n",
       "       [7.7],\n",
       "       [6. ],\n",
       "       [6.9],\n",
       "       [5.6],\n",
       "       [7.7],\n",
       "       [6.3],\n",
       "       [6.7],\n",
       "       [7.2],\n",
       "       [6.2],\n",
       "       [6.1],\n",
       "       [6.4],\n",
       "       [7.2],\n",
       "       [7.4],\n",
       "       [7.9],\n",
       "       [6.4],\n",
       "       [6.3],\n",
       "       [6.1],\n",
       "       [7.7],\n",
       "       [6.3],\n",
       "       [6.4],\n",
       "       [6. ],\n",
       "       [6.9],\n",
       "       [6.7],\n",
       "       [6.9],\n",
       "       [5.8],\n",
       "       [6.8],\n",
       "       [6.7],\n",
       "       [6.7],\n",
       "       [6.3],\n",
       "       [6.5],\n",
       "       [6.2],\n",
       "       [5.9]])"
      ]
     },
     "execution_count": 32,
     "metadata": {},
     "output_type": "execute_result"
    }
   ],
   "source": [
    "#spliting data into training and testing\n",
    "X_train=X[:75]\n",
    "\n",
    "X_test=X[75:]\n",
    "X_test"
   ]
  },
  {
   "cell_type": "code",
   "execution_count": 34,
   "metadata": {},
   "outputs": [
    {
     "data": {
      "text/plain": [
       "array([[3. ],\n",
       "       [2.8],\n",
       "       [3. ],\n",
       "       [2.9],\n",
       "       [2.6],\n",
       "       [2.4],\n",
       "       [2.4],\n",
       "       [2.7],\n",
       "       [2.7],\n",
       "       [3. ],\n",
       "       [3.4],\n",
       "       [3.1],\n",
       "       [2.3],\n",
       "       [3. ],\n",
       "       [2.5],\n",
       "       [2.6],\n",
       "       [3. ],\n",
       "       [2.6],\n",
       "       [2.3],\n",
       "       [2.7],\n",
       "       [3. ],\n",
       "       [2.9],\n",
       "       [2.9],\n",
       "       [2.5],\n",
       "       [2.8],\n",
       "       [3.3],\n",
       "       [2.7],\n",
       "       [3. ],\n",
       "       [2.9],\n",
       "       [3. ],\n",
       "       [3. ],\n",
       "       [2.5],\n",
       "       [2.9],\n",
       "       [2.5],\n",
       "       [3.6],\n",
       "       [3.2],\n",
       "       [2.7],\n",
       "       [3. ],\n",
       "       [2.5],\n",
       "       [2.8],\n",
       "       [3.2],\n",
       "       [3. ],\n",
       "       [3.8],\n",
       "       [2.6],\n",
       "       [2.2],\n",
       "       [3.2],\n",
       "       [2.8],\n",
       "       [2.8],\n",
       "       [2.7],\n",
       "       [3.3],\n",
       "       [3.2],\n",
       "       [2.8],\n",
       "       [3. ],\n",
       "       [2.8],\n",
       "       [3. ],\n",
       "       [2.8],\n",
       "       [3.8],\n",
       "       [2.8],\n",
       "       [2.8],\n",
       "       [2.6],\n",
       "       [3. ],\n",
       "       [3.4],\n",
       "       [3.1],\n",
       "       [3. ],\n",
       "       [3.1],\n",
       "       [3.1],\n",
       "       [3.1],\n",
       "       [2.7],\n",
       "       [3.2],\n",
       "       [3.3],\n",
       "       [3. ],\n",
       "       [2.5],\n",
       "       [3. ],\n",
       "       [3.4],\n",
       "       [3. ]])"
      ]
     },
     "execution_count": 34,
     "metadata": {},
     "output_type": "execute_result"
    }
   ],
   "source": [
    "#Spliting target into training and testing\n",
    "Y_train=Y[:75]\n",
    "Y_test=Y[75:]\n",
    "Y_test"
   ]
  },
  {
   "cell_type": "code",
   "execution_count": 35,
   "metadata": {},
   "outputs": [
    {
     "data": {
      "image/png": "[encoded data removed]",
      "text/plain": [
       "<Figure size 432x288 with 1 Axes>"
      ]
     },
     "metadata": {},
     "output_type": "display_data"
    }
   ],
   "source": [
    "#plot output\n",
    "plt.scatter(X_test,Y_test,color='blue')\n",
    "plt.title('Test Data')\n",
    "plt.xlabel('length')\n",
    "plt.ylabel('width')\n",
    "plt.xticks(())\n",
    "plt.yticks(())\n",
    "plt.show()"
   ]
  },
  {
   "cell_type": "code",
   "execution_count": 36,
   "metadata": {},
   "outputs": [],
   "source": [
    "regr=LinearRegression()"
   ]
  },
  {
   "cell_type": "code",
   "execution_count": 37,
   "metadata": {},
   "outputs": [
    {
     "data": {
      "text/plain": [
       "LinearRegression(copy_X=True, fit_intercept=True, n_jobs=1, normalize=False)"
      ]
     },
     "execution_count": 37,
     "metadata": {},
     "output_type": "execute_result"
    }
   ],
   "source": [
    "regr.fit(X_train,Y_train)"
   ]
  },
  {
   "cell_type": "code",
   "execution_count": 38,
   "metadata": {},
   "outputs": [],
   "source": [
    "y_pred=regr.predict(X_test)"
   ]
  },
  {
   "cell_type": "code",
   "execution_count": 39,
   "metadata": {},
   "outputs": [
    {
     "name": "stdout",
     "output_type": "stream",
     "text": [
      "Mean squared error :0.17\n"
     ]
    }
   ],
   "source": [
    "print(\"Mean squared error :%.2f\"% mean_squared_error(Y_test,y_pred) )"
   ]
  },
  {
   "cell_type": "code",
   "execution_count": 40,
   "metadata": {},
   "outputs": [
    {
     "data": {
      "image/png": "[encoded data removed]",
      "text/plain": [
       "<Figure size 432x288 with 1 Axes>"
      ]
     },
     "metadata": {},
     "output_type": "display_data"
    }
   ],
   "source": [
    "#plot outputs\n",
    "plt.plot(X_test,regr.predict(X_test),color='red',linewidth=4)\n",
    "plt.scatter(X_test,Y_test,color='black')\n",
    "plt.title('Test Data')\n",
    "plt.xlabel('Size')\n",
    "plt.ylabel('Price')\n",
    "plt.show()\n"
   ]
  },
  {
   "cell_type": "code",
   "execution_count": 41,
   "metadata": {},
   "outputs": [
    {
     "name": "stdout",
     "output_type": "stream",
     "text": [
      "variance score:-0.66\n"
     ]
    }
   ],
   "source": [
    "print('variance score:%.2f' % r2_score(Y_test,y_pred))\n"
   ]
  },
  {
   "cell_type": "code",
   "execution_count": null,
   "metadata": {},
   "outputs": [],
   "source": []
  }
 ],
 "metadata": {
  "kernelspec": {
   "display_name": "Python 3",
   "language": "python",
   "name": "python3"
  },
  "language_info": {
   "codemirror_mode": {
    "name": "ipython",
    "version": 3
   },
   "file_extension": ".py",
   "mimetype": "text/x-python",
   "name": "python",
   "nbconvert_exporter": "python",
   "pygments_lexer": "ipython3",
   "version": "3.6.5"
  }
 },
 "nbformat": 4,
 "nbformat_minor": 2
}
